{
 "cells": [
  {
   "cell_type": "code",
   "execution_count": null,
   "id": "f0366bad",
   "metadata": {},
   "outputs": [],
   "source": [
    "1.write a python program to print \"hello python\"?"
   ]
  },
  {
   "cell_type": "code",
   "execution_count": 1,
   "id": "a3bb8303",
   "metadata": {},
   "outputs": [
    {
     "name": "stdout",
     "output_type": "stream",
     "text": [
      "Hello python\n"
     ]
    }
   ],
   "source": [
    "print(\"Hello python\")"
   ]
  },
  {
   "cell_type": "code",
   "execution_count": null,
   "id": "25ee2d0e",
   "metadata": {},
   "outputs": [],
   "source": [
    "2.write a python program to do arithematical operations addition and division?"
   ]
  },
  {
   "cell_type": "code",
   "execution_count": 2,
   "id": "b50a0d40",
   "metadata": {},
   "outputs": [
    {
     "name": "stdout",
     "output_type": "stream",
     "text": [
      "10\n",
      "1.5\n"
     ]
    }
   ],
   "source": [
    "a = 6\n",
    "b = 4 \n",
    "# addition\n",
    "print(a+b)\n",
    "\n",
    "#division\n",
    "print(a/b)"
   ]
  },
  {
   "cell_type": "code",
   "execution_count": null,
   "id": "7ab8c3e9",
   "metadata": {},
   "outputs": [],
   "source": []
  }
 ],
 "metadata": {
  "kernelspec": {
   "display_name": "Python 3 (ipykernel)",
   "language": "python",
   "name": "python3"
  },
  "language_info": {
   "codemirror_mode": {
    "name": "ipython",
    "version": 3
   },
   "file_extension": ".py",
   "mimetype": "text/x-python",
   "name": "python",
   "nbconvert_exporter": "python",
   "pygments_lexer": "ipython3",
   "version": "3.9.12"
  }
 },
 "nbformat": 4,
 "nbformat_minor": 5
}
